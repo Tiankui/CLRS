{
 "cells": [
  {
   "cell_type": "markdown",
   "metadata": {},
   "source": [
    "# nodejs 算法训练场"
   ]
  },
  {
   "cell_type": "markdown",
   "metadata": {},
   "source": [
    "add `lodash` for the base"
   ]
  },
  {
   "cell_type": "code",
   "execution_count": null,
   "metadata": {},
   "outputs": [],
   "source": [
    "const _ = require('lodash')"
   ]
  },
  {
   "cell_type": "code",
   "execution_count": 1,
   "metadata": {},
   "outputs": [
    {
     "name": "stdout",
     "output_type": "stream",
     "text": [
      "1\n"
     ]
    }
   ],
   "source": [
    "console.log(1)"
   ]
  },
  {
   "cell_type": "code",
   "execution_count": 1,
   "metadata": {},
   "outputs": [],
   "source": [
    "const CryptoJS = require('crypto-js')"
   ]
  },
  {
   "cell_type": "code",
   "execution_count": 18,
   "metadata": {},
   "outputs": [
    {
     "name": "stdout",
     "output_type": "stream",
     "text": [
      "1234567\n",
      "1234567\n"
     ]
    }
   ],
   "source": [
    "var aesToken = CryptoJS.AES.encrypt('1234567', '927A3CC06CD1491B86D06907F60DFEEF');\n",
    "  //, str = aesToken.toString();\n",
    "\n",
    "var a = CryptoJS.AES.decrypt(aesToken.toString(),'927A3CC06CD1491B86D06907F60DFEEF')\n",
    "\n",
    "var b = CryptoJS.AES.decrypt(aesToken,'927A3CC06CD1491B86D06907F60DFEEF')\n",
    "console.log(a.toString(CryptoJS.enc.Utf8))\n",
    "console.log(b.toString(CryptoJS.enc.Utf8))\n",
    "//console.log('des token = ' + CryptoJS.AES.decrypt(aseToken, Config.yingSecretKey).toString(CryptoJS.enc.Utf8));"
   ]
  },
  {
   "cell_type": "code",
   "execution_count": 1,
   "metadata": {},
   "outputs": [],
   "source": [
    "const keys = ['a','b','c','d']\n",
    "    , len = keys.length;\n",
    "let index = -1"
   ]
  },
  {
   "cell_type": "code",
   "execution_count": null,
   "metadata": {},
   "outputs": [],
   "source": [
    "const checkExist = item => if (!item) item = {}"
   ]
  },
  {
   "cell_type": "code",
   "execution_count": 2,
   "metadata": {},
   "outputs": [
    {
     "name": "stdout",
     "output_type": "stream",
     "text": [
      "0\n",
      "1\n",
      "2\n",
      "3\n"
     ]
    }
   ],
   "source": [
    "keys.reduce((acc,item,index) => {\n",
    "    if (index === 0) {\n",
    "        checkExist(acc[item])\n",
    "    } else {\n",
    "        let i =0\n",
    "        while(++i <= index) {\n",
    "            acc[0][i]\n",
    "        } \n",
    "    }\n",
    "}, {})\n",
    "function signObject (acc, keys, index, value={}) {\n",
    "    if (acc[keys[index]]) return console.log('e')\n",
    "    else acc[keys[index]] = {}\n",
    "    if (index = keys.length - 1) {\n",
    "        acc[keys[index]] = value\n",
    "        return acc\n",
    "    } \n",
    "        \n",
    "    return signObject(acc[keys[index]], keys, ++index, value)\n",
    "}\n"
   ]
  }
 ],
 "metadata": {
  "kernelspec": {
   "display_name": "Javascript (Node.js)",
   "language": "javascript",
   "name": "javascript"
  },
  "language_info": {
   "file_extension": ".js",
   "mimetype": "application/javascript",
   "name": "javascript",
   "version": "8.9.4"
  }
 },
 "nbformat": 4,
 "nbformat_minor": 2
}
