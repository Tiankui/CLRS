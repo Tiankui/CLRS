{
 "cells": [
  {
   "cell_type": "markdown",
   "metadata": {},
   "source": [
    "## 插入排序 insertion-sort"
   ]
  },
  {
   "cell_type": "code",
   "execution_count": 48,
   "metadata": {},
   "outputs": [],
   "source": [
    "def insertionSort (arr):\n",
    "    for x in range(len(arr)):\n",
    "        y = x + 1\n",
    "        print('x',x)\n",
    "        while x < len(arr) - 1 and arr[x] > arr[y]:\n",
    "            print('insert-x', x)\n",
    "            arr[x],arr[y] = arr[y],arr[x]\n",
    "            x = x + 1\n",
    "            print(arr)\n",
    "    return arr\n",
    "            \n",
    "            "
   ]
  },
  {
   "cell_type": "code",
   "execution_count": 62,
   "metadata": {},
   "outputs": [],
   "source": [
    "def insertionSort (arr):\n",
    "    for x in range(len(arr)):\n",
    "        j = x + 1\n",
    "        i = x\n",
    "        print('1', arr)\n",
    "        while i < len(arr) - 1 and arr[i] > arr[j]:\n",
    "            arr[i],arr[j] = arr[j],arr[i]\n",
    "            i = i + 1\n",
    "            print('2',arr)\n",
    "    return arr\n",
    "            \n",
    "            "
   ]
  },
  {
   "cell_type": "code",
   "execution_count": 63,
   "metadata": {},
   "outputs": [
    {
     "name": "stdout",
     "output_type": "stream",
     "text": [
      "2 [99, 1, 10, 2, 3, 4, 5, 6, 1]\n"
     ]
    },
    {
     "data": {
      "text/plain": [
       "[99, 1, 10, 2, 3, 4, 5, 6, 1]"
      ]
     },
     "execution_count": 63,
     "metadata": {},
     "output_type": "execute_result"
    }
   ],
   "source": [
    "insertionSort([99,10,1,2,3,4,5,6,1,])"
   ]
  },
  {
   "cell_type": "code",
   "execution_count": 56,
   "metadata": {},
   "outputs": [
    {
     "name": "stdout",
     "output_type": "stream",
     "text": [
      "2\n",
      "3\n",
      "4\n",
      "5\n",
      "6\n",
      "7\n",
      "8\n",
      "9\n",
      "10\n"
     ]
    }
   ],
   "source": [
    "a = 1\n",
    "while a < 10:\n",
    "    a = a+1\n",
    "    print(a)"
   ]
  },
  {
   "cell_type": "code",
   "execution_count": null,
   "metadata": {},
   "outputs": [],
   "source": []
  }
 ],
 "metadata": {
  "kernelspec": {
   "display_name": "Python 3",
   "language": "python",
   "name": "python3"
  },
  "language_info": {
   "codemirror_mode": {
    "name": "ipython",
    "version": 3
   },
   "file_extension": ".py",
   "mimetype": "text/x-python",
   "name": "python",
   "nbconvert_exporter": "python",
   "pygments_lexer": "ipython3",
   "version": "3.6.4"
  }
 },
 "nbformat": 4,
 "nbformat_minor": 2
}
