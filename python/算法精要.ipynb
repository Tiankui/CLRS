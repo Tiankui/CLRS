{
 "cells": [
  {
   "cell_type": "markdown",
   "metadata": {},
   "source": [
    "### 习题答案\n",
    "- [全部习题答案C++](https://github.com/gzc/CLRS)  \n",
    "- [python](https://github.com/CyberZHG/CLRS)  \n",
    "- [c](https://github.com/wuzhiyi/CLRS-solution)  \n",
    "\n",
    "### 数学\n",
    "- 普林斯顿微积分读本\n",
    "- mit微积分课程\n",
    "- 概率导论\n",
    "\n",
    "### [算法复杂度](https://www.zhihu.com/question/21387264/answer/148670878)"
   ]
  },
  {
   "cell_type": "markdown",
   "metadata": {},
   "source": [
    "\n",
    "[插排](http://interactivepython.org/runestone/static/pythonds/SortSearch/TheInsertionSort.html)"
   ]
  },
  {
   "cell_type": "code",
   "execution_count": 52,
   "metadata": {},
   "outputs": [],
   "source": [
    "# 升序\n",
    "def insertionSort (alist, debug=False):\n",
    "    for index in range(1, len(alist)):\n",
    "        debug and print('now index is:', index)\n",
    "        currentValue = alist[index]\n",
    "        position = index\n",
    "        while position > 0 and alist[position - 1] > currentValue:\n",
    "            debug and print('\\tnow position is:', position)\n",
    "            alist[position] = alist[position - 1]\n",
    "            position = position - 1\n",
    "        alist[position] = currentValue\n",
    "    return alist\n",
    "            \n",
    "            "
   ]
  },
  {
   "cell_type": "code",
   "execution_count": 69,
   "metadata": {
    "scrolled": true
   },
   "outputs": [
    {
     "data": {
      "text/plain": [
       "[1, 2, 4, 6, 7, 8, 9, 33, 55]"
      ]
     },
     "execution_count": 69,
     "metadata": {},
     "output_type": "execute_result"
    }
   ],
   "source": [
    "insertionSort([9,8,7,6,55,4,33,2,1])"
   ]
  },
  {
   "cell_type": "code",
   "execution_count": 61,
   "metadata": {},
   "outputs": [],
   "source": [
    "# 降序\n",
    "def insertionSortNonincreasing (alist, debug=False):\n",
    "    for index in range(1, len(alist)):\n",
    "        debug and print('now index is:', index)\n",
    "        currentValue = alist[index]\n",
    "        position = index\n",
    "        while position > 0 and alist[position - 1] < currentValue:\n",
    "            debug and print('\\tnow position is:', position)\n",
    "            alist[position] = alist[position - 1]\n",
    "            position = position - 1\n",
    "        alist[position] = currentValue\n",
    "    return alist"
   ]
  },
  {
   "cell_type": "code",
   "execution_count": 55,
   "metadata": {},
   "outputs": [
    {
     "data": {
      "text/plain": [
       "[55, 33, 9, 8, 7, 6, 4, 2, 1]"
      ]
     },
     "execution_count": 55,
     "metadata": {},
     "output_type": "execute_result"
    }
   ],
   "source": [
    "insertionSortNonincreasing([9,8,7,6,55,4,33,2,1])"
   ]
  },
  {
   "cell_type": "markdown",
   "metadata": {},
   "source": [
    "[对数知乎上的解答](https://www.zhihu.com/question/26097157)  \n",
    "[朋友圈的同一篇文章](http://www.matongxue.com/madocs/12.html#/madoc)  \n",
    "[令人讨厌的是数学课，不是数学----《一个数学家的叹息》](https://zhuanlan.zhihu.com/p/32728039)  \n",
    "[数学符号](http://blog.csdn.net/liyuming0000/article/details/46929493)  \n",
    "\n",
    "\n",
    "Θ，读音：theta、西塔；既是上界也是下界(tight)，等于的意思。\n",
    "\n",
    "Ο，读音：big-oh、欧米可荣（大写）；表示上界(tightness unknown)，小于等于的意思。\n",
    "\n",
    "ο，读音：small-oh、欧米可荣（小写）；表示上界(not tight)，小于的意思。\n",
    "\n",
    "Ω，读音：big omega、欧米伽（大写）；表示下界(tightness unknown)，大于等于的意思。\n",
    "\n",
    "ω，读音：small omega、欧米伽（小写）；表示下界(not tight)，大于的意思。\n",
    "\n",
    " \n",
    "\n",
    "Ο是渐进上界，Ω是渐进下界。Θ需同时满足大Ο和Ω，故称为确界（必须同时符合上界和下界）。Ο极其有用，因为它表示了最差性能。具体如图所示："
   ]
  },
  {
   "cell_type": "markdown",
   "metadata": {},
   "source": [
    "**分治法**  \n",
    "- 分解  ```分解为子问题，这鞋子问题是原问题的规模较小的实例```\n",
    "- 解决  ```递归求解子问题，若子问题足够小，则直接求值```\n",
    "- 合并  ```合并子问题结果，得到原问题的解```  \n"
   ]
  },
  {
   "cell_type": "markdown",
   "metadata": {},
   "source": [
    "**并归排序**"
   ]
  },
  {
   "cell_type": "code",
   "execution_count": null,
   "metadata": {},
   "outputs": [],
   "source": []
  },
  {
   "cell_type": "markdown",
   "metadata": {},
   "source": [
    "**堆排**"
   ]
  },
  {
   "cell_type": "markdown",
   "metadata": {},
   "source": [
    "MAX-HEAPIFY"
   ]
  },
  {
   "cell_type": "code",
   "execution_count": null,
   "metadata": {},
   "outputs": [],
   "source": []
  },
  {
   "cell_type": "markdown",
   "metadata": {},
   "source": [
    "BUILD-MAX-HEAP"
   ]
  },
  {
   "cell_type": "markdown",
   "metadata": {},
   "source": [
    "HEAPSORT"
   ]
  },
  {
   "cell_type": "markdown",
   "metadata": {},
   "source": [
    "MAX-HEAP-INSERT HEAP-EXTRACT-MAX HEAP-INCREASE-KEY HEAP-MAXINUM"
   ]
  }
 ],
 "metadata": {
  "kernelspec": {
   "display_name": "Python 3",
   "language": "python",
   "name": "python3"
  },
  "language_info": {
   "codemirror_mode": {
    "name": "ipython",
    "version": 3
   },
   "file_extension": ".py",
   "mimetype": "text/x-python",
   "name": "python",
   "nbconvert_exporter": "python",
   "pygments_lexer": "ipython3",
   "version": "3.6.4"
  }
 },
 "nbformat": 4,
 "nbformat_minor": 2
}
